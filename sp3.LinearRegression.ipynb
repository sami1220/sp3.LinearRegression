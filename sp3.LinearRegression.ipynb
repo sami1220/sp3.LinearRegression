{
  "nbformat": 4,
  "nbformat_minor": 0,
  "metadata": {
    "colab": {
      "name": "sp3.LenearRegression のコピー",
      "provenance": [],
      "collapsed_sections": []
    },
    "kernelspec": {
      "name": "python3",
      "display_name": "Python 3"
    },
    "language_info": {
      "name": "python"
    }
  },
  "cells": [
    {
      "cell_type": "code",
      "metadata": {
        "id": "ZMF_f7UnELjV"
      },
      "source": [
        "# テストデータやライブラリ\n",
        "import numpy as np\n",
        "import matplotlib.pyplot as plt\n",
        "import pandas as pd\n",
        "\n",
        "from sklearn.model_selection import train_test_split\n",
        "from sklearn.datasets import load_boston\n",
        "from sklearn.linear_model import LinearRegression\n",
        "\n",
        "data = pd.read_csv('train.csv')\n",
        "\n",
        "x_data = data.loc[:,[\"GrLivArea\"]].values\n",
        "target = data.loc[:,[\"SalePrice\"]].values\n",
        "\n",
        "x_data_1 = data[\"GrLivArea\"].values\n",
        "target_1 = data[\"SalePrice\"].values\n",
        "\n",
        "x_train, x_test, y_train, y_test = train_test_split(x_data, target, train_size=0.8,random_state=42)\n",
        "\n",
        "#シリーズを変換　\n",
        "x_train_1, x_test_1, y_train_1, y_test_1 = train_test_split(x_data_1, target_1, train_size=0.8,random_state=42) "
      ],
      "execution_count": null,
      "outputs": []
    },
    {
      "cell_type": "markdown",
      "metadata": {
        "id": "fyRVKYCOmvoO"
      },
      "source": [
        "問題１　仮定関数"
      ]
    },
    {
      "cell_type": "code",
      "metadata": {
        "id": "n7T1Iv05m3lH"
      },
      "source": [
        "    # # 問題1 仮定関数\n",
        "    # def _linear_hypothesis(self, x, THETA):\n",
        "    #     \"\"\"\n",
        "    #     線形の仮定関数を計算する\n",
        "    #     Parameters\n",
        "    #     ----------\n",
        "    #     x : 次の形のndarray, shape (n_samples, n_features)\n",
        "    #     訓練データ\n",
        "    #     THETA : 次の形のndarray, shape(n_features, 1)\n",
        "    #     更新されていく重み\n",
        "    #     Returns\n",
        "    #     -------\n",
        "    #     次の形のndarray, shape (n_samples, 1)\n",
        "    #     線形の仮定関数による推定結果\n",
        "    #     \"\"\"\n",
        "    #     # # 問題１は仮の線形グラフ（一次関数）を引く\n",
        "    #     theta_fx = THETA.T @ x.T\n",
        "    #     return theta_fx.reshape(x.shape[0], 1)"
      ],
      "execution_count": null,
      "outputs": []
    },
    {
      "cell_type": "markdown",
      "metadata": {
        "id": "NGkLmzbPnJus"
      },
      "source": [
        "問題2　最急降下法"
      ]
    },
    {
      "cell_type": "code",
      "metadata": {
        "id": "wxsmGUgr7_6V"
      },
      "source": [
        "    # # 問題２　最急降下法\n",
        "    # def _gradient_descent(self, x, y, THETA):\n",
        "    #     \"\"\"\n",
        "    #     傾きを計算する。\n",
        "    #     Parameters\n",
        "    #     ----------\n",
        "    #     x : 次の形のndarray, shape (n_samples, n_features)\n",
        "    #     訓練データ\n",
        "    #     y : 次の形のndarray, shape (n_samples, 1)\n",
        "    #     目的データ\n",
        "    #     THETA : 次の形のndarray, shape(n_features, 1)\n",
        "    #     更新されていく重み\n",
        "    #     Returns\n",
        "    #     -------\n",
        "    #     次の形のndarray, shape (n_samples, 1)\n",
        "    #     線形の仮定関数による推定結果\n",
        "    #     \"\"\"\n",
        "    #     # trainの行数(転置後のshape[1])分降下式を繰り返す\n",
        "    #     for j in range(x.shape[1]):\n",
        "    #       # シグマの中の処理　1\n",
        "    #       Sigma_1 = self._linear_hypothesis(x, THETA) - y\n",
        "    #       # xのj番目の列の転置　＠　sigma_1の結果\n",
        "    #       Sigma_2 = sum(x[:, j].T @ Sigma_1)\n",
        "\n",
        "    #       THETA[j] = THETA[j] - ((self.lr * 1 / x.shape[0]) * Sigma_2)\n",
        "    #     # print(f'勾配降下法 結果の確認 : {THETA}')\n",
        "    #     return THETA\n",
        "    #         # 問題２\n",
        "    # def fit(self, x_train, y_train, x_val=None, y_val=None):\n",
        "    #     \"\"\"\n",
        "    #     線形回帰を学習する。\n",
        "    #     Parameters\n",
        "    #     ----------\n",
        "    #     x_train : 次の形のndarray, shape (n_samples, n_features)\n",
        "    #         訓練データの特徴量\n",
        "    #     y_train : 次の形のndarray, shape (n_samples, )\n",
        "    #         訓練データの正解値\n",
        "    #     x_val : 次の形のndarray, shape (n_samples, n_features)\n",
        "    #         検証データの特徴量\n",
        "    #     y_val : 次の形のndarray, shape (n_samples, )\n",
        "    #         検証データの正解値\n",
        "    #     \"\"\"\n",
        "\n",
        "    #     # テストデータと同じ行数、＋１列のゼロ配列を用意(predictと同じ)\n",
        "    #     one_column = 1\n",
        "    #     x_zero_fit = np.zeros((x_train.shape[0], x_train.shape[1] + one_column)) \n",
        "\n",
        "    #     for i in range(x_zero_fit.shape[0]):\n",
        "    #         x_zero_fit[i] = np.append(one_column, x_train[i])\n",
        "    #     # yのtrainデータをreshape   \n",
        "    #     y = y_train.reshape(y_train.shape[0], 1)\n",
        "\n",
        "    #     self.THETA = np.zeros((1, x_zero_fit.shape[1]))\n",
        "    #     THETA = self.THETA.T\n",
        "    #     log = np.zeros((self.iter, x_zero_fit.shape[1]))\n",
        "\n",
        "    #     for i in range(self.iter):\n",
        "    #         THETA = self._gradient_descent(x_zero_fit, y, THETA)\n",
        "    #         log[i] = THETA.T\n",
        "    #         self.THETA = THETA\n",
        "    #         self.loss[i] = self._loss_func(x_zero_fit, y, THETA)\n",
        "\n",
        "    #     self.log = log\n",
        "    #     self.THETA = THETA\n",
        "    #     self.coef_ = THETA[1]\n",
        "    #     self.intercept_ = THETA[0]\n",
        "\n",
        "    #     # x_valの場合　上のコードに_valを足した↓\n",
        "    #     if type(x_train)==type(x_val):\n",
        "    #         # テストデータと同じ行数、＋１列のゼロ配列を用意(predictと同じ)\n",
        "    #         one_column_val = 1\n",
        "    #         x_zero_val = np.zeros((x_train.shape[0], x_train.shape[1] + one_column_val)) \n",
        "\n",
        "    #         for i in range(x_val_fit.shape[0]):\n",
        "    #             x_zero_val[i] = np.append(one_column_val, x_train[i])\n",
        "    #         # yのtrainデータをreshape   \n",
        "    #         y_val = y_val.reshape(y_train.shape[0], 1)\n",
        "\n",
        "    #         self.THETA = np.zeros((1, x_zero_val.shape[1]))\n",
        "    #         THETA_val_val = self.THETA_val.T\n",
        "    #         log_val = np.zeros((self.iter, x_zero_val.shape[1]))\n",
        "\n",
        "    #         for i in range(self.iter):\n",
        "    #             THETA_val = self._gradient_descent(x_zero_val, y_val, THETA_val)\n",
        "    #             log[i] = THETA_val.T\n",
        "    #             self.THETA_val = THETA_val\n",
        "    #             self.val_loss[i] = self._loss_func(x_zero_val, y_val, THETA_val)\n",
        "\n",
        "    #         self.log = log\n",
        "    #         self.THETA_val = THETA_val\n",
        "    #         self.coef_ = THETA_val[1]\n",
        "    #         self.intercept_ = THETA_val[0]\n"
      ],
      "execution_count": null,
      "outputs": []
    },
    {
      "cell_type": "markdown",
      "metadata": {
        "id": "jgLdMsgendYv"
      },
      "source": [
        "問題３　推定"
      ]
    },
    {
      "cell_type": "code",
      "metadata": {
        "id": "VzZ7cXsjWpXs"
      },
      "source": [
        "# def predict(self, x_test):\n",
        "#         \"\"\"\n",
        "#         線形回帰を使い推定する。\n",
        "#         Parameters\n",
        "#         ----------\n",
        "#         x_test : 次の形のndarray, shape (n_samples, n_features)\n",
        "#             サンプル\n",
        "#         Returns\n",
        "#         -------\n",
        "#             次の形のndarray, shape (n_samples, 1)\n",
        "#             線形回帰による推定結果\n",
        "#         \"\"\"\n",
        "        \n",
        "#         # テストデータと同じ行数、＋１列のゼロ配列を用意(fitと同じ)\n",
        "#         one_column = 1\n",
        "#         x_zero = np.zeros((x_test.shape[0], x_test.shape[1] + one_column)) \n",
        "\n",
        "#         # x_testの数だけゼロ配列に1を追加\n",
        "#         count = 0\n",
        "#         while x_test.shape[0] <= count:\n",
        "#             x_zero[i] = np.append(one_column, x_test[i])\n",
        "#             count += 1\n",
        "#         # while文にした意味はない。可読性が上がるのか試し\n",
        "        \n",
        "#         # 推定値\n",
        "#         y_pred = np.array([])\n",
        "#         for i in range(x_test.shape[0]):\n",
        "#             predict_repeat = x_test[i].T @ self.THETA.T\n",
        "#             y_pred = np.append(y_pred, predict_repeat)\n",
        "  \n",
        "#         return y_pred.reshape(y_pred.shape[0], 1)\n"
      ],
      "execution_count": null,
      "outputs": []
    },
    {
      "cell_type": "markdown",
      "metadata": {
        "id": "AU7mKc7anth3"
      },
      "source": [
        "問題４　平均二乗誤差"
      ]
    },
    {
      "cell_type": "code",
      "metadata": {
        "colab": {
          "base_uri": "https://localhost:8080/"
        },
        "id": "8_KcP23KKMAz",
        "outputId": "88f39e36-8997-48b7-9c39-85664faa20a1"
      },
      "source": [
        "# 問題４\n",
        "def MSE(y_pred, y):\n",
        "    \"\"\"\n",
        "    平均二乗誤差の計算\n",
        "    Parameters\n",
        "    ----------\n",
        "    y_pred : 次の形のndarray, shape (n_samples,)\n",
        "      推定した値\n",
        "    y : 次の形のndarray, shape (n_samples,)\n",
        "      正解値\n",
        "    Returns\n",
        "    ----------\n",
        "    mse : numpy.float\n",
        "      平均二乗誤差\n",
        "    \"\"\"\n",
        "    #誤差の合計を総数で割る\n",
        "    diff = ((y_pred - y) ** 2) #推定値と正解値の誤差を二乗する\n",
        "    mse = sum(diff) / y_pred.shape[0]\n",
        "    return mse\n",
        "\n",
        "# a = np.arange(1, 100 )\n",
        "# b = np.array([10, 20, 30, 40, 50])\n",
        "\n",
        "sample_1 = np.array([1, 3, 10, 12, 18])\n",
        "sample_2 = np.array([1, 5, 10, 15, 20])\n",
        "\n",
        "print('-----平均二乗誤差の判定-----')\n",
        "print(f'自作の関数で判定 : {MSE(sample_1, sample_2)}')\n",
        "from sklearn.metrics import mean_squared_error\n",
        "print(f'sckit-learnで判定 : {mean_squared_error(sample_1, sample_2)}')"
      ],
      "execution_count": null,
      "outputs": [
        {
          "output_type": "stream",
          "text": [
            "-----平均二乗誤差の判定-----\n",
            "自作の関数で判定 : 3.4\n",
            "sckit-learnで判定 : 3.4\n"
          ],
          "name": "stdout"
        }
      ]
    },
    {
      "cell_type": "markdown",
      "metadata": {
        "id": "dH_0GU-un1ba"
      },
      "source": [
        "問題５　目的関数"
      ]
    },
    {
      "cell_type": "code",
      "metadata": {
        "id": "0I4BdY2JqCsK"
      },
      "source": [
        "    # # 問題５　目的関数（損失関数）\n",
        "    # def _loss_func(self, x, y, THETA):\n",
        "    #     \"\"\"\n",
        "    #     平均二乗誤差の計算\n",
        "    #     Parameters\n",
        "    #     ----------\n",
        "    #     y_pred : 次の形のndarray, shape (n_samples,)\n",
        "    #       推定した値\n",
        "    #     y : 次の形のndarray, shape (n_samples,)\n",
        "    #       正解値\n",
        "    #     Returns\n",
        "    #     ----------\n",
        "    #     mse : numpy.float\n",
        "    #       平均二乗誤差\n",
        "    #     \"\"\"\n",
        "    #     # 損失関数を平均二乗誤差によって求める\n",
        "    #     # 計測した予測値(y_hat)から正解値（y)※実データはy_train、を引いて二乗する。sum関数で総和を求めて\n",
        "    #     for i in range(x.shape[0]):\n",
        "    #         y_hat = x[i] @ THETA\n",
        "    #     loss = ((y_hat - y) ** 2).sum() / (x.shape[0] * 2)\n",
        "    #     # 二乗する理由→マイナスになることを防ぐために二乗する\n",
        "    #     return loss"
      ],
      "execution_count": null,
      "outputs": []
    },
    {
      "cell_type": "markdown",
      "metadata": {
        "id": "86BDCsONoEzX"
      },
      "source": [
        "問題６　学習と推定"
      ]
    },
    {
      "cell_type": "code",
      "metadata": {
        "id": "rEbickKn0_1-"
      },
      "source": [
        "# 以下のClassが完成したスクラッチ"
      ],
      "execution_count": null,
      "outputs": []
    },
    {
      "cell_type": "code",
      "metadata": {
        "colab": {
          "base_uri": "https://localhost:8080/"
        },
        "id": "j0NMWdiZDLto",
        "outputId": "c7f22d91-0bb5-4d6e-bf67-28bec9cdade6"
      },
      "source": [
        "import numpy as np\n",
        "import matplotlib.pyplot as plt\n",
        "\n",
        "class ScratchLinearRegression():\n",
        "\n",
        "    def __init__(self, num_iter, lr, no_bias=True, verbose=False):\n",
        "        \"\"\"\n",
        "        線形回帰のスクラッチ実装\n",
        "\n",
        "        Parameters\n",
        "        ----------\n",
        "        num_iter : int\n",
        "        イテレーション数\n",
        "        lr : float\n",
        "        学習率\n",
        "        no_bias : bool\n",
        "        バイアス項を入れない場合はTrue\n",
        "        verbose : bool\n",
        "        学習過程を出力する場合はTrue\n",
        "\n",
        "        Attributes\n",
        "        ----------\n",
        "        self.coef_ : 次の形のndarray, shape (n_features,)\n",
        "        パラメータ\n",
        "        self.loss : 次の形のndarray, shape (self.iter,)\n",
        "        訓練データに対する損失の記録\n",
        "        self.val_loss : 次の形のndarray, shape (self.iter,)\n",
        "        検証データに対する損失の記録\n",
        "        \"\"\"\n",
        "        # ハイパーパラメータを属性として記録\n",
        "        self.iter = num_iter\n",
        "        self.lr = lr\n",
        "        self.no_bias = no_bias\n",
        "        self.verbose = verbose\n",
        "        # 損失を記録する配列を用意\n",
        "        self.loss = np.zeros(self.iter) \n",
        "        # 損失関数格納用\n",
        "        self.val_loss = np.zeros(self.iter)\n",
        "\n",
        "    # 問題1 仮定関数\n",
        "    def _linear_hypothesis(self, x, THETA):\n",
        "        \"\"\"\n",
        "        線形の仮定関数を計算する\n",
        "        Parameters\n",
        "        ----------\n",
        "        x : 次の形のndarray, shape (n_samples, n_features)\n",
        "        訓練データ\n",
        "        THETA : 次の形のndarray, shape(n_features, 1)\n",
        "        更新されていく重み\n",
        "        Returns\n",
        "        -------\n",
        "        次の形のndarray, shape (n_samples, 1)\n",
        "        線形の仮定関数による推定結果\n",
        "        \"\"\"\n",
        "        # # 問題１は仮の線形グラフ（一次関数）を引く\n",
        "        theta_fx = THETA.T @ x.T\n",
        "        return theta_fx.reshape(x.shape[0], 1)\n",
        "    \n",
        "    # 問題２　最急降下法\n",
        "    def _gradient_descent(self, x, y, THETA):\n",
        "        \"\"\"\n",
        "        傾きを計算する。\n",
        "        Parameters\n",
        "        ----------\n",
        "        x : 次の形のndarray, shape (n_samples, n_features)\n",
        "        訓練データ\n",
        "        y : 次の形のndarray, shape (n_samples, 1)\n",
        "        目的データ\n",
        "        THETA : 次の形のndarray, shape(n_features, 1)\n",
        "        更新されていく重み\n",
        "        Returns\n",
        "        -------\n",
        "        次の形のndarray, shape (n_samples, 1)\n",
        "        線形の仮定関数による推定結果\n",
        "        \"\"\"\n",
        "        # trainの行数(転置後のshape[1])分降下式を繰り返す\n",
        "        for j in range(x.shape[1]):\n",
        "          # シグマの中の処理　1\n",
        "          Sigma_1 = self._linear_hypothesis(x, THETA) - y\n",
        "          # xのj番目の列の転置　＠　sigma_1の結果\n",
        "          Sigma_2 = sum(x[:, j].T @ Sigma_1)\n",
        "\n",
        "          THETA[j] = THETA[j] - ((self.lr * 1 / x.shape[0]) * Sigma_2)\n",
        "        # print(f'勾配降下法 結果の確認 : {THETA}')\n",
        "        return THETA\n",
        "\n",
        "    # 問題２\n",
        "    def fit(self, x_train, y_train, x_val=None, y_val=None):\n",
        "        \"\"\"\n",
        "        線形回帰を学習する。\n",
        "        Parameters\n",
        "        ----------\n",
        "        x_train : 次の形のndarray, shape (n_samples, n_features)\n",
        "            訓練データの特徴量\n",
        "        y_train : 次の形のndarray, shape (n_samples, )\n",
        "            訓練データの正解値\n",
        "        x_val : 次の形のndarray, shape (n_samples, n_features)\n",
        "            検証データの特徴量\n",
        "        y_val : 次の形のndarray, shape (n_samples, )\n",
        "            検証データの正解値\n",
        "        \"\"\"\n",
        "\n",
        "        # テストデータと同じ行数、＋１列のゼロ配列を用意(predictと同じ)\n",
        "        one_column = 1\n",
        "        x_zero_fit = np.zeros((x_train.shape[0], x_train.shape[1] + one_column)) \n",
        "\n",
        "        for i in range(x_zero_fit.shape[0]):\n",
        "            x_zero_fit[i] = np.append(one_column, x_train[i])\n",
        "        # yのtrainデータをreshape   \n",
        "        y = y_train.reshape(y_train.shape[0], 1)\n",
        "\n",
        "        self.THETA = np.zeros((1, x_zero_fit.shape[1]))\n",
        "        THETA = self.THETA.T\n",
        "        log = np.zeros((self.iter, x_zero_fit.shape[1]))\n",
        "\n",
        "        for i in range(self.iter):\n",
        "            THETA = self._gradient_descent(x_zero_fit, y, THETA)\n",
        "            log[i] = THETA.T\n",
        "            self.THETA = THETA\n",
        "            self.loss[i] = self._loss_func(x_zero_fit, y, THETA)\n",
        "\n",
        "        self.log = log\n",
        "        self.THETA = THETA\n",
        "        self.coef_ = THETA[1]\n",
        "        self.intercept_ = THETA[0]\n",
        "\n",
        "        # x_valの場合　上のコードに_valを足した↓\n",
        "        if type(x_train)==type(x_val):\n",
        "            # テストデータと同じ行数、＋１列のゼロ配列を用意(predictと同じ)\n",
        "            one_column_val = 1\n",
        "            x_zero_val = np.zeros((x_train.shape[0], x_train.shape[1] + one_column_val)) \n",
        "\n",
        "            for i in range(x_val_fit.shape[0]):\n",
        "                x_zero_val[i] = np.append(one_column_val, x_train[i])\n",
        "            # yのtrainデータをreshape   \n",
        "            y_val = y_val.reshape(y_train.shape[0], 1)\n",
        "\n",
        "            self.THETA = np.zeros((1, x_zero_val.shape[1]))\n",
        "            THETA_val_val = self.THETA_val.T\n",
        "            log_val = np.zeros((self.iter, x_zero_val.shape[1]))\n",
        "\n",
        "            for i in range(self.iter):\n",
        "                THETA_val = self._gradient_descent(x_zero_val, y_val, THETA_val)\n",
        "                log[i] = THETA_val.T\n",
        "                self.THETA_val = THETA_val\n",
        "                self.val_loss[i] = self._loss_func(x_zero_val, y_val, THETA_val)\n",
        "\n",
        "            self.log = log\n",
        "            self.THETA_val = THETA_val\n",
        "            self.coef_ = THETA_val[1]\n",
        "            self.intercept_ = THETA_val[0]\n",
        "\n",
        "      \n",
        "    # 問題５　目的関数（損失関数）\n",
        "    def _loss_func(self, x, y, THETA):\n",
        "        \"\"\"\n",
        "        平均二乗誤差の計算\n",
        "        Parameters\n",
        "        ----------\n",
        "        y_pred : 次の形のndarray, shape (n_samples,)\n",
        "          推定した値\n",
        "        y : 次の形のndarray, shape (n_samples,)\n",
        "          正解値\n",
        "        Returns\n",
        "        ----------\n",
        "        mse : numpy.float\n",
        "          平均二乗誤差\n",
        "        \"\"\"\n",
        "        # 損失関数を平均二乗誤差によって求める\n",
        "        # 計測した予測値(y_hat)から正解値（y)※実データはy_train、を引いて二乗する。sum関数で総和を求めて\n",
        "        for i in range(x.shape[0]):\n",
        "            y_hat = x[i] @ THETA\n",
        "        loss = ((y_hat - y) ** 2).sum() / (x.shape[0] * 2)\n",
        "        # 二乗する理由→マイナスになることを防ぐために二乗する\n",
        "        return loss\n",
        "    \n",
        "    # 問題３　推定\n",
        "    def predict(self, x_test):\n",
        "        \"\"\"\n",
        "        線形回帰を使い推定する。\n",
        "        Parameters\n",
        "        ----------\n",
        "        x_test : 次の形のndarray, shape (n_samples, n_features)\n",
        "            サンプル\n",
        "        Returns\n",
        "        -------\n",
        "            次の形のndarray, shape (n_samples, 1)\n",
        "            線形回帰による推定結果\n",
        "        \"\"\"\n",
        "        \n",
        "        # テストデータと同じ行数、＋１列のゼロ配列を用意(fitと同じ)\n",
        "        one_column = 1\n",
        "        x_zero = np.zeros((x_test.shape[0], x_test.shape[1] + one_column)) \n",
        "\n",
        "        # x_testの数だけゼロ配列に1を追加\n",
        "        count = 0\n",
        "        while x_test.shape[0] <= count:\n",
        "            x_zero[i] = np.append(one_column, x_test[i])\n",
        "            count += 1\n",
        "        # while文にした意味はない。可読性が上がるのか試し\n",
        "        \n",
        "        # 推定値\n",
        "        y_pred = np.array([])\n",
        "        for i in range(x_test.shape[0]):\n",
        "            predict_repeat = x_test[i].T @ self.THETA.T\n",
        "            y_pred = np.append(y_pred, predict_repeat)\n",
        "  \n",
        "        return y_pred.reshape(y_pred.shape[0], 1)\n",
        "\n",
        "\n",
        "# 学習結果\n",
        "mySLR = ScratchLinearRegression(num_iter=40, lr=0.01, verbose=True)\n",
        "mySLR.fit(x_train, y_train)\n",
        "print(f'My model Predict index10まで: \\n{mySLR.predict(x_test)[:10]}')"
      ],
      "execution_count": null,
      "outputs": [
        {
          "output_type": "stream",
          "text": [
            "My model Predict index10まで: \n",
            "[[-2.30366396e+178]\n",
            " [-3.89788475e+181]\n",
            " [-5.65562445e+178]\n",
            " [-9.56952604e+181]\n",
            " [-2.21738441e+178]\n",
            " [-3.75189656e+181]\n",
            " [-3.58922925e+178]\n",
            " [-6.07310882e+181]\n",
            " [-3.49432174e+178]\n",
            " [-5.91252181e+181]]\n"
          ],
          "name": "stdout"
        },
        {
          "output_type": "stream",
          "text": [
            "/usr/local/lib/python3.7/dist-packages/ipykernel_launcher.py:175: RuntimeWarning: overflow encountered in square\n"
          ],
          "name": "stderr"
        }
      ]
    },
    {
      "cell_type": "markdown",
      "metadata": {
        "id": "qp1I3W35mcam"
      },
      "source": [
        "相違点が大きい。predictの数値がおかしい\n"
      ]
    },
    {
      "cell_type": "markdown",
      "metadata": {
        "id": "F9xxy8AIoYqb"
      },
      "source": [
        "問題７　学習曲線"
      ]
    },
    {
      "cell_type": "code",
      "metadata": {
        "colab": {
          "base_uri": "https://localhost:8080/",
          "height": 937
        },
        "id": "_0kD3jnDDr2f",
        "outputId": "50f6317a-2ad8-4151-e7f3-da07207e2879"
      },
      "source": [
        "\n",
        "print(f'coef : \\n{mySLR.coef_}')\n",
        "print(f'intersept : \\n{mySLR.intercept_}')\n",
        "\n",
        "# 推定結果のグラフ\n",
        "plt.title('loss_graph')\n",
        "plt.xlabel('iter_num')\n",
        "plt.plot(np.arange(mySLR.iter), mySLR.loss, label='train_loss', linewidth=\"5\")\n",
        "plt.plot(np.arange(mySLR.iter), mySLR.val_loss, label='val_loss',linewidth=\"5\")\n",
        "plt.legend()\n",
        "plt.show()\n",
        "\n",
        "# 元々の目的変数と説明変数の散布図\n",
        "plt.title('TestData scatter')\n",
        "plt.xlabel('GrLivArea')\n",
        "plt.ylabel('SalePrice')\n",
        "plt.scatter(x_test,y_test)\n",
        "plt.show()\n",
        "\n",
        "# Predictデータのshapeをグラフ用に訂正\n",
        "pre_reshape = mySLR.predict(x_test).reshape(292, 2)\n",
        "\n",
        "# スクラッチのpredictデータ\n",
        "plt.title('My Scratch Predict Data')\n",
        "plt.xlabel('Mypredict')\n",
        "plt.ylabel('y_test(SalePrice)')\n",
        "plt.plot(pre_reshape[:,0], y_test)\n",
        "plt.show()\n",
        "\n",
        "# 確認\n",
        "mySLR.predict(x_test).shape\n",
        "mySLR.predict(x_test)[:,0].shape\n",
        "# mySLR.predict(x_test)[:,1].shape\n",
        "# mySLR.predict(x_test).shape\n"
      ],
      "execution_count": null,
      "outputs": [
        {
          "output_type": "stream",
          "text": [
            "coef : \n",
            "[-3.64970482e+178]\n",
            "intersept : \n",
            "[-2.15698873e+175]\n"
          ],
          "name": "stdout"
        },
        {
          "output_type": "display_data",
          "data": {
            "image/png": "[encoded data removed]",
            "text/plain": [
              "<Figure size 432x288 with 1 Axes>"
            ]
          },
          "metadata": {
            "tags": [],
            "needs_background": "light"
          }
        },
        {
          "output_type": "display_data",
          "data": {
            "image/png": "[encoded data removed]",
            "text/plain": [
              "<Figure size 432x288 with 1 Axes>"
            ]
          },
          "metadata": {
            "tags": [],
            "needs_background": "light"
          }
        },
        {
          "output_type": "display_data",
          "data": {
            "image/png": "[encoded data removed]",
            "text/plain": [
              "<Figure size 432x288 with 1 Axes>"
            ]
          },
          "metadata": {
            "tags": [],
            "needs_background": "light"
          }
        },
        {
          "output_type": "execute_result",
          "data": {
            "text/plain": [
              "(584,)"
            ]
          },
          "metadata": {
            "tags": []
          },
          "execution_count": 171
        }
      ]
    },
    {
      "cell_type": "code",
      "metadata": {
        "colab": {
          "base_uri": "https://localhost:8080/"
        },
        "id": "ZuQKEouAkaEW",
        "outputId": "7eed2b43-b71d-4832-b8cf-ad6870c54861"
      },
      "source": [
        "# 線形回帰　sklearnを使った実装\n",
        "\n",
        "from sklearn.linear_model import LinearRegression\n",
        "\n",
        "print(type(x_train), type(y_train))\n",
        "print(x_train.shape)\n",
        "print(y_train.shape)\n",
        "\n",
        "\n",
        "clf = LinearRegression()\n",
        "clf.fit(x_train, y_train)\n",
        "print(f'predict : \\n   {clf.predict(x_test)[0:5]}')\n",
        "print(f'train-score : \\n   {clf.score(x_train, y_train)}') \n",
        "print(f'score : \\n   {clf.score(x_test, y_test)}')\n",
        "print(f'coef_ : \\n   {clf.coef_}')\n",
        "print(f'intersept_ : \\n   {clf.intercept_}')\n"
      ],
      "execution_count": null,
      "outputs": [
        {
          "output_type": "stream",
          "text": [
            "<class 'numpy.ndarray'> <class 'numpy.ndarray'>\n",
            "(1168, 1)\n",
            "(1168, 1)\n",
            "predict : \n",
            "   [[134357.9562804 ]\n",
            " [293625.79843699]\n",
            " [130258.39792373]\n",
            " [195441.37579477]\n",
            " [190931.86160243]]\n",
            "train-score : \n",
            "   0.483931586143035\n",
            "score : \n",
            "   0.5542632452871117\n",
            "coef_ : \n",
            "   [[102.48895892]]\n",
            "intersept_ : \n",
            "   [24899.74815734]\n"
          ],
          "name": "stdout"
        }
      ]
    },
    {
      "cell_type": "markdown",
      "metadata": {
        "id": "z_ABBs5amvE6"
      },
      "source": [
        "計算式通りに実装したつもりだが、predictの結果がおかしい"
      ]
    },
    {
      "cell_type": "code",
      "metadata": {
        "id": "c4y-uBybolDy"
      },
      "source": [
        ""
      ],
      "execution_count": null,
      "outputs": []
    }
  ]
}