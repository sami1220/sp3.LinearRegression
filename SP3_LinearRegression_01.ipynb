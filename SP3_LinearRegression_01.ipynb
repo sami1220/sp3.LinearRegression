{
  "nbformat": 4,
  "nbformat_minor": 0,
  "metadata": {
    "colab": {
      "name": "SP3.LinearRegression_01.ipynb",
      "provenance": [],
      "mount_file_id": "1U17ZOX5v9niDrM0IW3aylJSNmsqxS60R",
      "authorship_tag": "ABX9TyPnXqYXMFcT8zTH5Ne/cpI/",
      "include_colab_link": true
    },
    "kernelspec": {
      "name": "python3",
      "display_name": "Python 3"
    },
    "language_info": {
      "name": "python"
    }
  },
  "cells": [
    {
      "cell_type": "markdown",
      "metadata": {
        "id": "view-in-github",
        "colab_type": "text"
      },
      "source": [
        "<a href=\"https://colab.research.google.com/github/sami1220/sp3.LinearRegression/blob/master/SP3_LinearRegression_01.ipynb\" target=\"_parent\"><img src=\"https://colab.research.google.com/assets/colab-badge.svg\" alt=\"Open In Colab\"/></a>"
      ]
    },
    {
      "cell_type": "code",
      "metadata": {
        "id": "4xI7QuqZhsXb"
      },
      "source": [
        "# テストデータやライブラリ\n",
        "import numpy as np\n",
        "import matplotlib.pyplot as plt\n",
        "import pandas as pd\n",
        "\n",
        "from sklearn.model_selection import train_test_split\n",
        "from sklearn.datasets import load_boston\n",
        "from sklearn.linear_model import LinearRegression\n",
        "\n"
      ],
      "execution_count": null,
      "outputs": []
    },
    {
      "cell_type": "code",
      "metadata": {
        "id": "vJTfEsFn8qZ7",
        "colab": {
          "base_uri": "https://localhost:8080/"
        },
        "outputId": "63f761eb-985b-406e-de96-6980578ddb39"
      },
      "source": [
        "from sklearn.model_selection import train_test_split\n",
        "from sklearn.linear_model import LinearRegression\n",
        "\n",
        "df = pd.read_csv('train.csv')\n",
        "x_array = np.array(df.loc[:,'GrLivArea'])\n",
        "y_array = np.array(df.loc[:,'SalePrice'])\n",
        "# df_01 = df.loc[:,['GrLivArea','SalePrice']]\n",
        "x_train, x_test, y_train, y_test = train_test_split(x_array, y_array,test_size=0.25, random_state=42)\n",
        "print(x_array.shape)\n",
        "print(y_array.shape)\n",
        "# x_train, x_test, y_train, y_test = train_test_split(df_01['GrLivArea'].values, df_01['SalePrice'].values, test_size=0.25, random_state=42)"
      ],
      "execution_count": 112,
      "outputs": [
        {
          "output_type": "stream",
          "text": [
            "(1460,)\n",
            "(1460,)\n"
          ],
          "name": "stdout"
        }
      ]
    },
    {
      "cell_type": "markdown",
      "metadata": {
        "id": "Pqq1CWyy6vfj"
      },
      "source": [
        "問題1　仮定関数\n",
        "\n",
        "問題2　最急降下法\n",
        "\n",
        "問題3　推定\n",
        "\n",
        "問題5　目的関数\n",
        "\n",
        "以下のコードで全て実装。コメントアウトで箇所を指示"
      ]
    },
    {
      "cell_type": "code",
      "metadata": {
        "id": "IJ-vEXSdhjfq"
      },
      "source": [
        "class ScratchLinearRegression:\n",
        "\n",
        "    def __init__(self,num_iter,lr,bias,verbose,var=1):\n",
        "        self.iter = num_iter #学習回数　\n",
        "        self.lr = lr #学習率\n",
        "        self.bias = bias #傾き\n",
        "        self.verbose = verbose\n",
        "        # 損失関数を保存する（初期値として0）\n",
        "        self.loss = np.zeros(self.iter+1)\n",
        "        self.test_loss = np.zeros(self.iter+1)\n",
        "        self.var=var\n",
        "        \n",
        "    # 問題2\n",
        "    def fit(self, x, y, x_test=None, y_test=None):\n",
        "        \"\"\"\n",
        "        線形回帰を学習する。検証データが入力された場合はそれに対する損失と精度もイテレーションごとに計算する。\n",
        "        Parameters\n",
        "        ----------\n",
        "        x : 次の形のndarray, shape (n_samples, n_features)\n",
        "            訓練データの特徴量\n",
        "        y : 次の形のndarray, shape (n_samples, )\n",
        "            訓練データの正解値\n",
        "        x_test : 次の形のndarray, shape (n_samples, n_features)\n",
        "            検証データの特徴量\n",
        "        y_test : 次の形のndarray, shape (n_samples, )\n",
        "            検証データの正解値\n",
        "        \"\"\"\n",
        "        #　theta_listを0配列に初期化する（行:学習回数分、列はxの列に＋1\n",
        "        self.theta_list = np.zeros((self.iter+1,x.shape[1]+1))\n",
        "        # 問題1の仮定関数を呼び出す\n",
        "        self._linear_hypothesis(x)\n",
        "\n",
        "        # ①********\n",
        "        # 誤差の初期値としてcalc_errorの戻り値(推定値と実測値の誤差）を用意\n",
        "        init_error = self.calc_error(x,y)\n",
        "        # loss関数の0番目\n",
        "        self.loss[0] = np.sum(init_error**2) /(2 * x.shape[0])\n",
        "\n",
        "        # もしx_testがNoneでなければ、（x_testがあればってこと）\n",
        "        if x_test is not None:\n",
        "            # テスト用の学習データも損失を保存しておく\n",
        "            # ②********\n",
        "            # ★calc_errorの引数にテスト用データを入れて、初期化変数に保存しておく\n",
        "            init_test_error= self.calc_error(x_test,y_test)\n",
        "            # test_loss関数の0番目\n",
        "            self.test_loss[0] = np.sum(init_test_error**2)/(2 * x_test.shape[0])\n",
        "        \n",
        "        # 問題５\n",
        "        # 学習回数分繰り返し　目的関数を保存する！！！\n",
        "        for n in range(self.iter):\n",
        "            # 計測した値とyデータの誤差をerrorに格納しておく \n",
        "            error = self.calc_error(x,y)\n",
        "            # 勾配降下法による\n",
        "            loss = self._gradient_descent(x,error)\n",
        "            self.theta_list[n+1] = self.theta\n",
        "            self.loss[n+1] = loss\n",
        "            \n",
        "            # x_testも入力した場合\n",
        "            if x_test is True:\n",
        "                test_error = self.calc_error(x_test,y_test)\n",
        "                test_loss = np.sum(test_error**2) /(2*x_test.shape[0])\n",
        "                self.test_loss[n+1]=test_loss\n",
        "    \n",
        "    # 問題３\n",
        "    def predict(self,x):\n",
        "        \"\"\"\n",
        "        xの訓練データを入力して推定結果を返す\n",
        "        ----------\n",
        "        prameter\n",
        "          x : ndarray\n",
        "            訓練データ\n",
        "        ----------\n",
        "        return\n",
        "          predict_answer : ndarray\n",
        "            推定結果  \n",
        "        \"\"\"\n",
        "        if self.bias == True:\n",
        "            predict_answer = x @ self.theta[:-1] + self.theta[-1]\n",
        "        else:\n",
        "            predict_answer = x @ self.theta\n",
        "        \n",
        "        return predict_answer\n",
        "    # 問題１\n",
        "    def _linear_hypothesis(self,x):\n",
        "        if self.bias:\n",
        "            # 標準正規分布の乱数（平均0、分散１）をthetaに格納\n",
        "            self.theta = np.random.randn(x.shape[1]+1)*self.var\n",
        "            # theta_listの最初の要素にthetaを入れる\n",
        "            self.theta_list[0] =self.theta\n",
        "        else:\n",
        "            self.theta = np.random.randn(x.shape[1])\n",
        "\n",
        "    # 問題２   \n",
        "    def _gradient_descent(self, x,error):\n",
        "        \"\"\"\n",
        "        説明変数の訓練用、誤差を入力して、損失関数を返す\n",
        "        ----------\n",
        "        parameter\n",
        "            x : ndarray\n",
        "              説明変数の訓練用\n",
        "            error : ndarray\n",
        "              calc_errorの戻り値（fitでグローバル変数化）\n",
        "        ----------\n",
        "        return\n",
        "            loss\n",
        "              損失を返す\n",
        "        \"\"\"\n",
        "\n",
        "        # loss = 平均二乗誤差の計算　(hθ(x(i)) - y(i)) ** 2\n",
        "        sigma_loss = np.sum(error**2)\n",
        "        m = (2 * len(x))\n",
        "        loss =  sigma_loss / m\n",
        "        # ？？　損失数と訓練データの内積（？）を訓練データの数で割り算している\n",
        "        loss1 = (error.T @ x) * (1 / x.shape[0])\n",
        "        if self.bias:\n",
        "          # 次のθの値は、今のθからloss1と学習率をかけた数字を引いた値になる\n",
        "            self.theta[:-1] =self.theta[:-1] - self.lr * loss1\n",
        "            self.theta[-1] = self.theta[-1] - (self.lr * np.sum((error/x.shape[0])))\n",
        "        else:\n",
        "            self.theta = self.theta - self.lr * loss1\n",
        "        return loss\n",
        "        \n",
        "    def calc_error(self,x,y):\n",
        "        \"\"\"\n",
        "        説明変数の訓練用、目的変数の訓練用を入力、計測値と実測値の誤差を求める\n",
        "        ----------\n",
        "        parameter\n",
        "          x : ndarray\n",
        "            説明変数の訓練用\n",
        "          y : ndarray\n",
        "            目的変数の訓練用\n",
        "        ----------\n",
        "        return\n",
        "          error : ndarray\n",
        "            誤差を返す\n",
        "        \"\"\"\n",
        "        # 推定値から実測値を引く　＝　誤差をerrorに代入\n",
        "        # 問題の [hθ(x(i)) - y(i)x(i)j] この式に該当問題2以降発生\n",
        "        error = self.predict(x) - y\n",
        "        return error\n"
      ],
      "execution_count": 152,
      "outputs": []
    },
    {
      "cell_type": "markdown",
      "metadata": {
        "id": "aluHTOCG6m3x"
      },
      "source": [
        "*問題4*　平均二乗誤差"
      ]
    },
    {
      "cell_type": "code",
      "metadata": {
        "colab": {
          "base_uri": "https://localhost:8080/"
        },
        "id": "2GkLfzEGh8FV",
        "outputId": "0333368e-24df-4cf7-cea9-49a507232cc6"
      },
      "source": [
        "# 問題4\n",
        "\n",
        "def MSE(y_pred, y):\n",
        "    \"\"\"\n",
        "    平均二乗誤差の計算\n",
        "    Parameters\n",
        "    ----------\n",
        "    y_pred : 次の形のndarray, shape (n_samples,)\n",
        "      推定した値\n",
        "    y : 次の形のndarray, shape (n_samples,)\n",
        "      正解値\n",
        "    Returns\n",
        "    ----------\n",
        "    mse : numpy.float\n",
        "      平均二乗誤差\n",
        "    \"\"\"\n",
        "    sigma_calc = sum((y_pred - y) ** 2)\n",
        "    mse = sigma_calc / y.shape[0]\n",
        "\n",
        "    return mse\n",
        "\n",
        "y_pred_sample = np.arange(1, 11)\n",
        "y_sample = np.array([1, 3, 4, 5, 8, 9, 11, 13, 14, 15])\n",
        "print(f'y_pred_sample : {y_pred_sample}')\n",
        "print(f'y_sample       : {y_sample}')\n",
        "print(f'My MSE function : {MSE(y_pred_sample,y_sample)}')\n",
        "\n",
        "from sklearn.metrics import mean_squared_error\n",
        "print(f'sckit-learnで判定 : {mean_squared_error(y_pred_sample,y_sample)}')"
      ],
      "execution_count": null,
      "outputs": [
        {
          "output_type": "stream",
          "text": [
            "y_pred_sample : [ 1  2  3  4  5  6  7  8  9 10]\n",
            "y_sample       : [ 1  3  4  5  8  9 11 13 14 15]\n",
            "My MSE function : 11.2\n",
            "sckit-learnで判定 : 11.2\n"
          ],
          "name": "stdout"
        }
      ]
    },
    {
      "cell_type": "markdown",
      "metadata": {
        "id": "XBMK1doG-rTa"
      },
      "source": [
        "問題６　学習と推定"
      ]
    },
    {
      "cell_type": "code",
      "metadata": {
        "id": "DVSNPn3ikZhU",
        "colab": {
          "base_uri": "https://localhost:8080/"
        },
        "outputId": "3471b244-2e59-4dca-b1b6-7e0a016854cf"
      },
      "source": [
        "# 自作クラスの結果\n",
        "mySLR = ScratchLinearRegression(num_iter=10000 ,lr=0.0000002,bias=True,verbose=True)\n",
        "mySLR.fit(x_train.reshape(-1,1), y_train, x_test.reshape(-1,1), y_test)\n",
        "\n",
        "my_predict = mySLR.predict(x_array.reshape(-1,1))\n",
        "print(f'mySLRの推定結果 : \\n{my_predict}')\n",
        "\n",
        "###################################################################\n",
        "\n",
        "# 線形回帰　sklearnを使った実装結果\n",
        "from sklearn.linear_model import LinearRegression\n",
        "\n",
        "clf = LinearRegression()\n",
        "clf.fit(x_train.reshape(-1,1), y_train)\n",
        "clf_predict = clf.predict(x_array.reshape(-1,1))\n",
        "print(f'scikit-learnの推定結果 : \\n{clf_predict}')\n"
      ],
      "execution_count": 170,
      "outputs": [
        {
          "output_type": "stream",
          "text": [
            "mySLRの推定結果 : \n",
            "[201685.34153328 148846.38138195 210649.09370181 ... 275990.12924608\n",
            " 127144.66560551 148138.71673706]\n",
            "scikit-learnの推定結果 : \n",
            "[201583.81068277 152115.32321595 209975.78623518 ... 271148.87118298\n",
            " 131797.90872065 151452.79883023]\n"
          ],
          "name": "stdout"
        }
      ]
    },
    {
      "cell_type": "markdown",
      "metadata": {
        "id": "Ukt_MH5kLDmN"
      },
      "source": [
        "問題７　学習曲線のプロット"
      ]
    },
    {
      "cell_type": "code",
      "metadata": {
        "colab": {
          "base_uri": "https://localhost:8080/",
          "height": 574
        },
        "id": "r68otv7EDPU7",
        "outputId": "5e414793-5755-4f0f-9635-b8e86166aab5"
      },
      "source": [
        "loss_list = mySLR.loss\n",
        "test_loss_list = mySLR.test_loss\n",
        "\n",
        "# shapeを調整\n",
        "loss_list = np.delete(loss_list, 1000, axis=0)\n",
        "test_loss_list = np.delete(test_loss_list, 1000, axis=0)\n",
        "\n",
        "\n",
        "# 損失関数について\n",
        "# 推定結果のグラフ\n",
        "plt.title('loss_graph')\n",
        "plt.xlabel('iter_num')\n",
        "plt.plot(np.arange(mySLR.iter), loss_list, label='train_loss', linewidth=\"3\")\n",
        "plt.plot(np.arange(mySLR.iter), test_loss_list, label='test_loss',linewidth=\"3\")\n",
        "plt.legend()\n",
        "plt.show()\n",
        "\n",
        "# 元々の目的変数と説明変数の散布図\n",
        "# グリーン：scikit-learnの線形回帰\n",
        "# オレンジ：自作したスクラッチの結果\n",
        "# 散布図：実際の分布\n",
        "plt.title('TestData scatter')\n",
        "plt.xlabel('GrLivArea')\n",
        "plt.ylabel('SalePrice')\n",
        "plt.plot(x_array, clf_predict, color='green', label=\"scikit-learn\")\n",
        "plt.plot(x_array, my_predict, color='orange', label=\"my SLR\")\n",
        "plt.scatter(x_test,y_test)\n",
        "plt.legend()\n",
        "plt.show()\n",
        "\n"
      ],
      "execution_count": 186,
      "outputs": [
        {
          "output_type": "display_data",
          "data": {
            "image/png": "[encoded data removed]",
            "text/plain": [
              "<Figure size 432x288 with 1 Axes>"
            ]
          },
          "metadata": {
            "tags": [],
            "needs_background": "light"
          }
        },
        {
          "output_type": "display_data",
          "data": {
            "image/png": "[encoded data removed]",
            "text/plain": [
              "<Figure size 432x288 with 1 Axes>"
            ]
          },
          "metadata": {
            "tags": [],
            "needs_background": "light"
          }
        }
      ]
    }
  ]
}